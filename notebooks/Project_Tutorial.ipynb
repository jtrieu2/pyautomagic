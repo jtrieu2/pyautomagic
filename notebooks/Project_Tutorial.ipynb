{
 "cells": [
  {
   "cell_type": "markdown",
   "metadata": {
    "colab_type": "text",
    "id": "b7B6AwHJ4f0F"
   },
   "source": [
    "# **Using Project class in pyAutomagic**\n",
    "A Project contains the entire relevant information for each project. Main steps to ensure smooth running includes:\n",
    "\n",
    "\n",
    "*   Initialization\n",
    "*   Preprocess\n",
    "*   Interpolate\n",
    "\n"
   ]
  },
  {
   "cell_type": "markdown",
   "metadata": {
    "colab_type": "text",
    "id": "be_iQIB7zxfk"
   },
   "source": [
    "# *Initialization*\n",
    "\n",
    "We have restricted the overall package to be used with BIDS specifications.Set name as the project name of your choice. Set the data folder as the path to your BIDS folder. Correct file extension should be set according to the raw files in your dataset. Set the montage string as one of that MNE will recognize as the EEG montage you are using. According to the dataset, the sampling rate also needs to be set. Also, the preprocessing parameters need to be set as a dictionary as seen in the code below. These parameters are line frequency, filter type, filter frequency, filter length, whether or not to perform EOG regression, lambda , tolerance, maximum iterations, reference channels, eval channels and re-reference channels.\n",
    "\n",
    "\n"
   ]
  },
  {
   "cell_type": "code",
   "execution_count": 9,
   "metadata": {
    "colab": {},
    "colab_type": "code",
    "id": "-26mii1j0UYu",
    "scrolled": false
   },
   "outputs": [],
   "source": [
    "import os\n",
    "import sys\n",
    "import warnings\n",
    "# warnings.filterwarnings(\"ignore\")\n",
    "pyautomagic_dir = os.path.abspath(os.path.dirname(os.getcwd()))\n",
    "sys.path.append(pyautomagic_dir)\n",
    "from pyautomagic.src.Project import Project\n",
    "\n",
    "name = \"Tutorial project\"\n",
    "data_folder = os.path.join(\"..\", \"tests\", \"test_data\", \"test_project\")\n",
    "file_ext = \".set\"\n",
    "montage = \"biosemi128\"\n",
    "sample_rate = 500\n",
    "channels = []\n",
    "for i in range(128):\n",
    "    channels.append('E'+str(i+1))\n",
    "\n",
    "params = {'line_freqs' : 50,'filter_type' : 'high', 'filt_freq' : None,'filter_length' : 'auto','eog_regression' : False,'lam' : -1,'tol' : 1e-7,'max_iter': 1000,'interpolation_params': {'line_freqs' : 50,'ref_chs': channels, 'reref_chs': channels,'montage': montage}}"
   ]
  },
  {
   "cell_type": "markdown",
   "metadata": {
    "colab_type": "text",
    "id": "UFiNWlfn96SZ"
   },
   "source": [
    "The project class can be initialized with above mentioned parameters."
   ]
  },
  {
   "cell_type": "code",
   "execution_count": 10,
   "metadata": {
    "colab": {},
    "colab_type": "code",
    "id": "DUaJ_GUr4txm"
   },
   "outputs": [
    {
     "name": "stderr",
     "output_type": "stream",
     "text": [
      "2020-02-05 10:58:29,479 : INFO: Setting up project. Please wait...\n",
      "2020-02-05 10:58:29,480 : INFO: Adding subject sub-18\n",
      "2020-02-05 10:58:29,482 : INFO: ...Adding file sub-18_task-rest_eeg.set\n",
      "2020-02-05 10:58:29,483 : INFO: Adding subject sub-66\n",
      "2020-02-05 10:58:29,484 : INFO: ...Adding file sub-66_task-rest_eeg.set\n",
      "2020-02-05 10:58:29,486 : INFO: **Project saved**\n"
     ]
    },
    {
     "name": "stdout",
     "output_type": "stream",
     "text": [
      "\n",
      "Writing '../tests/test_data/test_project/derivatives/automagic/Tutorial project_results.json'...\n",
      "\n",
      "{}\n"
     ]
    }
   ],
   "source": [
    "import warnings\n",
    "warnings.filterwarnings(\"ignore\")\n",
    "tutorial_project = Project(name, data_folder, file_ext, montage, sample_rate, params)"
   ]
  },
  {
   "cell_type": "markdown",
   "metadata": {
    "colab_type": "text",
    "id": "_EeWMnaP-A2_"
   },
   "source": [
    "When the project class is initialized, it looks into the data folder and creates a list of all the raw files. Correct listing of raw files can be checked from log, where both the subject name and file name is being logged.  "
   ]
  },
  {
   "cell_type": "markdown",
   "metadata": {
    "colab_type": "text",
    "id": "FTMj960eBxHm"
   },
   "source": [
    "# *Preprocess*\n",
    "After the data has been loaded correctly, use preprocess_all() method to process the raw files. This method goes through all the blocks in the block_list and processes them all one by one using Block's preprocess function. You can check the progress in log. Additionally it also saves the preprocessed data, 2 figures and reults JSON file for each block in the appropriate result folder.  "
   ]
  },
  {
   "cell_type": "code",
   "execution_count": 12,
   "metadata": {
    "colab": {},
    "colab_type": "code",
    "id": "bj1_pid260mo"
   },
   "outputs": [
    {
     "name": "stderr",
     "output_type": "stream",
     "text": [
      "2020-02-05 10:59:33,702 : INFO: ----- START PREPROCESSING -----\n",
      "2020-02-05 10:59:33,702 : INFO: Processing file sub-18_task-rest_eeg 1 out of 2\n"
     ]
    },
    {
     "name": "stdout",
     "output_type": "stream",
     "text": [
      "Reading channel info from ../tests/test_data/test_project/sub-18/eeg/sub-18_task-rest_channels.tsv.\n",
      "prep\n"
     ]
    },
    {
     "ename": "ValueError",
     "evalue": "DigMontage is a only a subset of info. There are 128 channel positions not present it the DigMontage. The required channels are: {'E12', 'E66', 'E110', 'E111', 'E97', 'E53', 'E119', 'E22', 'E120', 'E45', 'E11', 'E27', 'E80', 'E23', 'E31', 'E105', 'E14', 'E26', 'E25', 'E18', 'E81', 'E30', 'E13', 'E69', 'E103', 'E7', 'E72', 'E3', 'E51', 'E64', 'E107', 'E41', 'E21', 'E73', 'E68', 'E43', 'E59', 'E16', 'E95', 'E44', 'E90', 'E93', 'E124', 'E84', 'E52', 'E115', 'E10', 'E62', 'E61', 'E77', 'E63', 'E42', 'E102', 'E9', 'E35', 'E54', 'E85', 'E82', 'E123', 'E36', 'E19', 'E1', 'E37', 'E96', 'E128', 'E34', 'E56', 'E112', 'E98', 'E87', 'E86', 'E79', 'E78', 'E122', 'E65', 'E28', 'E60', 'E70', 'E50', 'E33', 'E126', 'E94', 'E121', 'E71', 'E75', 'E20', 'E114', 'E58', 'E29', 'E99', 'E91', 'E4', 'E89', 'E104', 'E57', 'E39', 'E101', 'E113', 'E47', 'E106', 'E15', 'E2', 'E109', 'E88', 'E24', 'E32', 'E127', 'E6', 'E92', 'E67', 'E76', 'E38', 'E48', 'E55', 'E74', 'E17', 'E118', 'E125', 'E116', 'E46', 'E100', 'E117', 'E8', 'E5', 'E83', 'E49', 'E108', 'E40'}.\nYou can use `raise_if_subset=False` in `set_montage` to avoid this ValueError and get a DeprecationWarning instead.",
     "output_type": "error",
     "traceback": [
      "\u001b[0;31m---------------------------------------------------------------------------\u001b[0m",
      "\u001b[0;31mValueError\u001b[0m                                Traceback (most recent call last)",
      "\u001b[0;32m<ipython-input-12-f39099ff9435>\u001b[0m in \u001b[0;36m<module>\u001b[0;34m\u001b[0m\n\u001b[0;32m----> 1\u001b[0;31m \u001b[0mtutorial_project\u001b[0m\u001b[0;34m.\u001b[0m\u001b[0mpreprocess_all\u001b[0m\u001b[0;34m(\u001b[0m\u001b[0;34m)\u001b[0m\u001b[0;34m\u001b[0m\u001b[0;34m\u001b[0m\u001b[0m\n\u001b[0m",
      "\u001b[0;32m~/Desktop/pyautomagic/pyautomagic/src/Project.py\u001b[0m in \u001b[0;36mpreprocess_all\u001b[0;34m(self)\u001b[0m\n\u001b[1;32m    156\u001b[0m                     )\n\u001b[1;32m    157\u001b[0m \u001b[0;34m\u001b[0m\u001b[0m\n\u001b[0;32m--> 158\u001b[0;31m                 \u001b[0mp_results\u001b[0m \u001b[0;34m=\u001b[0m \u001b[0mblock\u001b[0m\u001b[0;34m.\u001b[0m\u001b[0mpreprocess\u001b[0m\u001b[0;34m(\u001b[0m\u001b[0;34m)\u001b[0m  \u001b[0;31m# Preprocess function\u001b[0m\u001b[0;34m\u001b[0m\u001b[0;34m\u001b[0m\u001b[0m\n\u001b[0m\u001b[1;32m    159\u001b[0m                 \u001b[0mEEG\u001b[0m \u001b[0;34m=\u001b[0m \u001b[0mp_results\u001b[0m\u001b[0;34m[\u001b[0m\u001b[0;34m\"preprocessed\"\u001b[0m\u001b[0;34m]\u001b[0m\u001b[0;34m\u001b[0m\u001b[0;34m\u001b[0m\u001b[0m\n\u001b[1;32m    160\u001b[0m                 \u001b[0;32mif\u001b[0m \u001b[0;32mnot\u001b[0m \u001b[0mEEG\u001b[0m\u001b[0;34m:\u001b[0m\u001b[0;34m\u001b[0m\u001b[0;34m\u001b[0m\u001b[0m\n",
      "\u001b[0;32m~/Desktop/pyautomagic/pyautomagic/src/Block.py\u001b[0m in \u001b[0;36mpreprocess\u001b[0;34m(self)\u001b[0m\n\u001b[1;32m    181\u001b[0m         \u001b[0mself\u001b[0m\u001b[0;34m.\u001b[0m\u001b[0mparams\u001b[0m\u001b[0;34m[\u001b[0m\u001b[0;34m\"interpolation_params\"\u001b[0m\u001b[0;34m]\u001b[0m\u001b[0;34m[\u001b[0m\u001b[0;34m\"reref_chs\"\u001b[0m\u001b[0;34m]\u001b[0m \u001b[0;34m=\u001b[0m \u001b[0mdata\u001b[0m\u001b[0;34m.\u001b[0m\u001b[0mch_names\u001b[0m\u001b[0;34m\u001b[0m\u001b[0;34m\u001b[0m\u001b[0m\n\u001b[1;32m    182\u001b[0m         \u001b[0mpreprocess\u001b[0m \u001b[0;34m=\u001b[0m \u001b[0mexecute_preprocess\u001b[0m\u001b[0;34m(\u001b[0m\u001b[0mdata\u001b[0m\u001b[0;34m,\u001b[0m \u001b[0mself\u001b[0m\u001b[0;34m.\u001b[0m\u001b[0mparams\u001b[0m\u001b[0;34m)\u001b[0m\u001b[0;34m\u001b[0m\u001b[0;34m\u001b[0m\u001b[0m\n\u001b[0;32m--> 183\u001b[0;31m         \u001b[0mpreprocessed\u001b[0m\u001b[0;34m,\u001b[0m \u001b[0mfig_1\u001b[0m\u001b[0;34m,\u001b[0m \u001b[0mfig_2\u001b[0m \u001b[0;34m=\u001b[0m \u001b[0mpreprocess\u001b[0m\u001b[0;34m.\u001b[0m\u001b[0mfit\u001b[0m\u001b[0;34m(\u001b[0m\u001b[0;34m)\u001b[0m\u001b[0;34m\u001b[0m\u001b[0;34m\u001b[0m\u001b[0m\n\u001b[0m\u001b[1;32m    184\u001b[0m         \u001b[0moverall_thresh\u001b[0m \u001b[0;34m=\u001b[0m \u001b[0mself\u001b[0m\u001b[0;34m.\u001b[0m\u001b[0mproject\u001b[0m\u001b[0;34m.\u001b[0m\u001b[0mquality_thresholds\u001b[0m\u001b[0;34m[\u001b[0m\u001b[0;34m\"overall_thresh\"\u001b[0m\u001b[0;34m]\u001b[0m\u001b[0;34m\u001b[0m\u001b[0;34m\u001b[0m\u001b[0m\n\u001b[1;32m    185\u001b[0m         \u001b[0mtime_thresh\u001b[0m \u001b[0;34m=\u001b[0m \u001b[0mself\u001b[0m\u001b[0;34m.\u001b[0m\u001b[0mproject\u001b[0m\u001b[0;34m.\u001b[0m\u001b[0mquality_thresholds\u001b[0m\u001b[0;34m[\u001b[0m\u001b[0;34m\"time_thresh\"\u001b[0m\u001b[0;34m]\u001b[0m\u001b[0;34m\u001b[0m\u001b[0;34m\u001b[0m\u001b[0m\n",
      "\u001b[0;32m~/Desktop/pyautomagic/pyautomagic/preprocessing/preprocess.py\u001b[0m in \u001b[0;36mfit\u001b[0;34m(self)\u001b[0m\n\u001b[1;32m    412\u001b[0m         \u001b[0;32mif\u001b[0m \u001b[0mself\u001b[0m\u001b[0;34m.\u001b[0m\u001b[0mautomagic\u001b[0m\u001b[0;34m[\u001b[0m\u001b[0;34m\"prep\"\u001b[0m\u001b[0;34m]\u001b[0m\u001b[0;34m[\u001b[0m\u001b[0;34m\"performed\"\u001b[0m\u001b[0;34m]\u001b[0m \u001b[0;34m==\u001b[0m \u001b[0;32mFalse\u001b[0m\u001b[0;34m:\u001b[0m\u001b[0;34m\u001b[0m\u001b[0;34m\u001b[0m\u001b[0m\n\u001b[1;32m    413\u001b[0m             \u001b[0mprint\u001b[0m\u001b[0;34m(\u001b[0m\u001b[0;34m\"prep\"\u001b[0m\u001b[0;34m)\u001b[0m\u001b[0;34m\u001b[0m\u001b[0;34m\u001b[0m\u001b[0m\n\u001b[0;32m--> 414\u001b[0;31m             \u001b[0mself\u001b[0m\u001b[0;34m.\u001b[0m\u001b[0meeg\u001b[0m\u001b[0;34m.\u001b[0m\u001b[0minfo\u001b[0m\u001b[0;34m[\u001b[0m\u001b[0;34m\"bads\"\u001b[0m\u001b[0;34m]\u001b[0m \u001b[0;34m=\u001b[0m \u001b[0mself\u001b[0m\u001b[0;34m.\u001b[0m\u001b[0mperform_prep\u001b[0m\u001b[0;34m(\u001b[0m\u001b[0;34m)\u001b[0m\u001b[0;34m\u001b[0m\u001b[0;34m\u001b[0m\u001b[0m\n\u001b[0m\u001b[1;32m    415\u001b[0m             \u001b[0mself\u001b[0m\u001b[0;34m.\u001b[0m\u001b[0mindex\u001b[0m \u001b[0;34m=\u001b[0m \u001b[0mnp\u001b[0m\u001b[0;34m.\u001b[0m\u001b[0mzeros\u001b[0m\u001b[0;34m(\u001b[0m\u001b[0mlen\u001b[0m\u001b[0;34m(\u001b[0m\u001b[0mself\u001b[0m\u001b[0;34m.\u001b[0m\u001b[0meeg\u001b[0m\u001b[0;34m.\u001b[0m\u001b[0minfo\u001b[0m\u001b[0;34m[\u001b[0m\u001b[0;34m\"bads\"\u001b[0m\u001b[0;34m]\u001b[0m\u001b[0;34m)\u001b[0m\u001b[0;34m)\u001b[0m\u001b[0;34m.\u001b[0m\u001b[0mastype\u001b[0m\u001b[0;34m(\u001b[0m\u001b[0mint\u001b[0m\u001b[0;34m)\u001b[0m\u001b[0;34m\u001b[0m\u001b[0;34m\u001b[0m\u001b[0m\n\u001b[1;32m    416\u001b[0m \u001b[0;34m\u001b[0m\u001b[0m\n",
      "\u001b[0;32m~/Desktop/pyautomagic/pyautomagic/preprocessing/preprocess.py\u001b[0m in \u001b[0;36mperform_prep\u001b[0;34m(self)\u001b[0m\n\u001b[1;32m    127\u001b[0m             \u001b[0mself\u001b[0m\u001b[0;34m.\u001b[0m\u001b[0mparams\u001b[0m\u001b[0;34m[\u001b[0m\u001b[0;34m\"interpolation_params\"\u001b[0m\u001b[0;34m]\u001b[0m\u001b[0;34m[\u001b[0m\u001b[0;34m\"montage\"\u001b[0m\u001b[0;34m]\u001b[0m\u001b[0;34m\u001b[0m\u001b[0;34m\u001b[0m\u001b[0m\n\u001b[1;32m    128\u001b[0m         )\n\u001b[0;32m--> 129\u001b[0;31m         \u001b[0mprep\u001b[0m \u001b[0;34m=\u001b[0m \u001b[0mPrepPipeline\u001b[0m\u001b[0;34m(\u001b[0m\u001b[0mself\u001b[0m\u001b[0;34m.\u001b[0m\u001b[0meeg\u001b[0m\u001b[0;34m,\u001b[0m \u001b[0mself\u001b[0m\u001b[0;34m.\u001b[0m\u001b[0mparams\u001b[0m\u001b[0;34m[\u001b[0m\u001b[0;34m\"interpolation_params\"\u001b[0m\u001b[0;34m]\u001b[0m\u001b[0;34m,\u001b[0m \u001b[0mmontage\u001b[0m\u001b[0;34m)\u001b[0m\u001b[0;34m\u001b[0m\u001b[0;34m\u001b[0m\u001b[0m\n\u001b[0m\u001b[1;32m    130\u001b[0m         \u001b[0mprep\u001b[0m \u001b[0;34m=\u001b[0m \u001b[0mprep\u001b[0m\u001b[0;34m.\u001b[0m\u001b[0mfit\u001b[0m\u001b[0;34m(\u001b[0m\u001b[0;34m)\u001b[0m\u001b[0;34m\u001b[0m\u001b[0;34m\u001b[0m\u001b[0m\n\u001b[1;32m    131\u001b[0m         self.bad_chs = list(\n",
      "\u001b[0;32m/Library/Frameworks/Python.framework/Versions/3.7/lib/python3.7/site-packages/pyprep/prep_pipeline.py\u001b[0m in \u001b[0;36m__init__\u001b[0;34m(self, raw, prep_params, montage, ransac)\u001b[0m\n\u001b[1;32m     41\u001b[0m         \u001b[0mself\u001b[0m\u001b[0;34m.\u001b[0m\u001b[0mraw\u001b[0m \u001b[0;34m=\u001b[0m \u001b[0mraw\u001b[0m\u001b[0;34m.\u001b[0m\u001b[0mcopy\u001b[0m\u001b[0;34m(\u001b[0m\u001b[0;34m)\u001b[0m\u001b[0;34m\u001b[0m\u001b[0;34m\u001b[0m\u001b[0m\n\u001b[1;32m     42\u001b[0m         \u001b[0mself\u001b[0m\u001b[0;34m.\u001b[0m\u001b[0mch_names\u001b[0m \u001b[0;34m=\u001b[0m \u001b[0mself\u001b[0m\u001b[0;34m.\u001b[0m\u001b[0mraw\u001b[0m\u001b[0;34m.\u001b[0m\u001b[0mch_names\u001b[0m\u001b[0;34m\u001b[0m\u001b[0;34m\u001b[0m\u001b[0m\n\u001b[0;32m---> 43\u001b[0;31m         \u001b[0mself\u001b[0m\u001b[0;34m.\u001b[0m\u001b[0mraw\u001b[0m\u001b[0;34m.\u001b[0m\u001b[0mset_montage\u001b[0m\u001b[0;34m(\u001b[0m\u001b[0mmontage\u001b[0m\u001b[0;34m)\u001b[0m\u001b[0;34m\u001b[0m\u001b[0;34m\u001b[0m\u001b[0m\n\u001b[0m\u001b[1;32m     44\u001b[0m         \u001b[0mself\u001b[0m\u001b[0;34m.\u001b[0m\u001b[0mraw\u001b[0m\u001b[0;34m.\u001b[0m\u001b[0mpick_types\u001b[0m\u001b[0;34m(\u001b[0m\u001b[0meeg\u001b[0m\u001b[0;34m=\u001b[0m\u001b[0;32mTrue\u001b[0m\u001b[0;34m,\u001b[0m \u001b[0meog\u001b[0m\u001b[0;34m=\u001b[0m\u001b[0;32mFalse\u001b[0m\u001b[0;34m,\u001b[0m \u001b[0mmeg\u001b[0m\u001b[0;34m=\u001b[0m\u001b[0;32mFalse\u001b[0m\u001b[0;34m)\u001b[0m\u001b[0;34m\u001b[0m\u001b[0;34m\u001b[0m\u001b[0m\n\u001b[1;32m     45\u001b[0m         \u001b[0mself\u001b[0m\u001b[0;34m.\u001b[0m\u001b[0mch_names_eeg\u001b[0m \u001b[0;34m=\u001b[0m \u001b[0mself\u001b[0m\u001b[0;34m.\u001b[0m\u001b[0mraw\u001b[0m\u001b[0;34m.\u001b[0m\u001b[0mch_names\u001b[0m\u001b[0;34m\u001b[0m\u001b[0;34m\u001b[0m\u001b[0m\n",
      "\u001b[0;32m/Library/Frameworks/Python.framework/Versions/3.7/lib/python3.7/site-packages/mne/io/eeglab/eeglab.py\u001b[0m in \u001b[0;36mset_montage\u001b[0;34m(self, montage, set_dig, update_ch_names, raise_if_subset, verbose)\u001b[0m\n\u001b[1;32m    393\u001b[0m         \u001b[0;32mif\u001b[0m \u001b[0misinstance\u001b[0m\u001b[0;34m(\u001b[0m\u001b[0mmontage\u001b[0m\u001b[0;34m,\u001b[0m \u001b[0;34m(\u001b[0m\u001b[0mDigMontage\u001b[0m\u001b[0;34m,\u001b[0m \u001b[0mtype\u001b[0m\u001b[0;34m(\u001b[0m\u001b[0;32mNone\u001b[0m\u001b[0;34m)\u001b[0m\u001b[0;34m)\u001b[0m\u001b[0;34m)\u001b[0m\u001b[0;34m:\u001b[0m\u001b[0;34m\u001b[0m\u001b[0;34m\u001b[0m\u001b[0m\n\u001b[1;32m    394\u001b[0m             _set_montage(self.info, montage, set_dig=set_dig,\n\u001b[0;32m--> 395\u001b[0;31m                          raise_if_subset=raise_if_subset)\n\u001b[0m\u001b[1;32m    396\u001b[0m \u001b[0;34m\u001b[0m\u001b[0m\n\u001b[1;32m    397\u001b[0m         \u001b[0;32melse\u001b[0m\u001b[0;34m:\u001b[0m\u001b[0;34m\u001b[0m\u001b[0;34m\u001b[0m\u001b[0m\n",
      "\u001b[0;32m/Library/Frameworks/Python.framework/Versions/3.7/lib/python3.7/site-packages/mne/channels/montage.py\u001b[0m in \u001b[0;36m_set_montage\u001b[0;34m(info, montage, update_ch_names, set_dig, raise_if_subset)\u001b[0m\n\u001b[1;32m   1563\u001b[0m             \u001b[0minfo_names\u001b[0m\u001b[0;34m=\u001b[0m\u001b[0mset\u001b[0m\u001b[0;34m(\u001b[0m\u001b[0;34m[\u001b[0m\u001b[0minfo\u001b[0m\u001b[0;34m[\u001b[0m\u001b[0;34m'ch_names'\u001b[0m\u001b[0;34m]\u001b[0m\u001b[0;34m[\u001b[0m\u001b[0mii\u001b[0m\u001b[0;34m]\u001b[0m \u001b[0;32mfor\u001b[0m \u001b[0mii\u001b[0m \u001b[0;32min\u001b[0m \u001b[0m_pick_chs\u001b[0m\u001b[0;34m(\u001b[0m\u001b[0minfo\u001b[0m\u001b[0;34m)\u001b[0m\u001b[0;34m]\u001b[0m\u001b[0;34m)\u001b[0m\u001b[0;34m,\u001b[0m\u001b[0;34m\u001b[0m\u001b[0;34m\u001b[0m\u001b[0m\n\u001b[1;32m   1564\u001b[0m             \u001b[0mmontage_names\u001b[0m\u001b[0;34m=\u001b[0m\u001b[0mset\u001b[0m\u001b[0;34m(\u001b[0m\u001b[0mch_pos\u001b[0m\u001b[0;34m)\u001b[0m\u001b[0;34m,\u001b[0m\u001b[0;34m\u001b[0m\u001b[0;34m\u001b[0m\u001b[0m\n\u001b[0;32m-> 1565\u001b[0;31m             \u001b[0mraise_if_subset\u001b[0m\u001b[0;34m=\u001b[0m\u001b[0m_raise\u001b[0m\u001b[0;34m,\u001b[0m  \u001b[0;31m# XXX: deprecated param to remove in 0.20\u001b[0m\u001b[0;34m\u001b[0m\u001b[0;34m\u001b[0m\u001b[0m\n\u001b[0m\u001b[1;32m   1566\u001b[0m         )\n\u001b[1;32m   1567\u001b[0m \u001b[0;34m\u001b[0m\u001b[0m\n",
      "\u001b[0;32m/Library/Frameworks/Python.framework/Versions/3.7/lib/python3.7/site-packages/mne/channels/montage.py\u001b[0m in \u001b[0;36m_check_ch_names_are_compatible\u001b[0;34m(info_names, montage_names, raise_if_subset)\u001b[0m\n\u001b[1;32m     91\u001b[0m                 \u001b[0;34m'\\nYou can use `raise_if_subset=False` in `set_montage` to'\u001b[0m\u001b[0;34m\u001b[0m\u001b[0;34m\u001b[0m\u001b[0m\n\u001b[1;32m     92\u001b[0m                 \u001b[0;34m' avoid this ValueError and get a DeprecationWarning instead.'\u001b[0m\u001b[0;34m\u001b[0m\u001b[0;34m\u001b[0m\u001b[0m\n\u001b[0;32m---> 93\u001b[0;31m             ).format(n_ch=len(not_in_montage), ch_names=not_in_montage))\n\u001b[0m\u001b[1;32m     94\u001b[0m         \u001b[0;32melse\u001b[0m\u001b[0;34m:\u001b[0m\u001b[0;34m\u001b[0m\u001b[0;34m\u001b[0m\u001b[0m\n\u001b[1;32m     95\u001b[0m             \u001b[0;31m# XXX: deprecated. to remove in 0.20 (raise_if_subset, too)\u001b[0m\u001b[0;34m\u001b[0m\u001b[0;34m\u001b[0m\u001b[0;34m\u001b[0m\u001b[0m\n",
      "\u001b[0;31mValueError\u001b[0m: DigMontage is a only a subset of info. There are 128 channel positions not present it the DigMontage. The required channels are: {'E12', 'E66', 'E110', 'E111', 'E97', 'E53', 'E119', 'E22', 'E120', 'E45', 'E11', 'E27', 'E80', 'E23', 'E31', 'E105', 'E14', 'E26', 'E25', 'E18', 'E81', 'E30', 'E13', 'E69', 'E103', 'E7', 'E72', 'E3', 'E51', 'E64', 'E107', 'E41', 'E21', 'E73', 'E68', 'E43', 'E59', 'E16', 'E95', 'E44', 'E90', 'E93', 'E124', 'E84', 'E52', 'E115', 'E10', 'E62', 'E61', 'E77', 'E63', 'E42', 'E102', 'E9', 'E35', 'E54', 'E85', 'E82', 'E123', 'E36', 'E19', 'E1', 'E37', 'E96', 'E128', 'E34', 'E56', 'E112', 'E98', 'E87', 'E86', 'E79', 'E78', 'E122', 'E65', 'E28', 'E60', 'E70', 'E50', 'E33', 'E126', 'E94', 'E121', 'E71', 'E75', 'E20', 'E114', 'E58', 'E29', 'E99', 'E91', 'E4', 'E89', 'E104', 'E57', 'E39', 'E101', 'E113', 'E47', 'E106', 'E15', 'E2', 'E109', 'E88', 'E24', 'E32', 'E127', 'E6', 'E92', 'E67', 'E76', 'E38', 'E48', 'E55', 'E74', 'E17', 'E118', 'E125', 'E116', 'E46', 'E100', 'E117', 'E8', 'E5', 'E83', 'E49', 'E108', 'E40'}.\nYou can use `raise_if_subset=False` in `set_montage` to avoid this ValueError and get a DeprecationWarning instead."
     ]
    }
   ],
   "source": [
    "tutorial_project.preprocess_all()"
   ]
  },
  {
   "cell_type": "markdown",
   "metadata": {
    "colab_type": "text",
    "id": "69nwv3i_cPQ0"
   },
   "source": [
    "# *Interpolate*\n",
    "After all the files have been processed. You can go ahead and interpolate the blocks that are to be interpolated. For interpolation, use the interpolate_selected() method. The progress can be checked in log. After the interpolation is done, the results are stored in same format as in preprocessing."
   ]
  },
  {
   "cell_type": "code",
   "execution_count": 0,
   "metadata": {
    "colab": {},
    "colab_type": "code",
    "id": "URWLUw_z662u"
   },
   "outputs": [],
   "source": [
    "tutorial_project.interpolate_selected()"
   ]
  }
 ],
 "metadata": {
  "colab": {
   "collapsed_sections": [],
   "name": "Project_Tutorial.ipynb",
   "provenance": [],
   "toc_visible": true
  },
  "kernelspec": {
   "display_name": "Python 3",
   "language": "python",
   "name": "python3"
  },
  "language_info": {
   "codemirror_mode": {
    "name": "ipython",
    "version": 3
   },
   "file_extension": ".py",
   "mimetype": "text/x-python",
   "name": "python",
   "nbconvert_exporter": "python",
   "pygments_lexer": "ipython3",
   "version": "3.7.4"
  }
 },
 "nbformat": 4,
 "nbformat_minor": 1
}
